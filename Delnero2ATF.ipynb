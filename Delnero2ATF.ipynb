{
 "cells": [
  {
   "cell_type": "markdown",
   "id": "256efe37-45df-4f1b-a05b-12530f9852c8",
   "metadata": {},
   "source": [
    "This notebook transforms the main part of Delnero's transliteration file of all Old Babylonian Emesal Liturgies into ORACC compatible ATF. A few steps have been taken before, adjusting all special characters (š, Š, ŋ, ṣ, Ṣ, ṭ, Ṭ); replacing ḫ by h and replacing all superscript/subscript by the approrpiate annotation.\n",
    "\n",
    "The script tries to recognize the start of a new text (separated from the preceding by a sequence of ---- signs) and to identify the museum number in the header with a P number.\n",
    "\n",
    "The section in Delnero's file that deals with Uru'ama'irabi has been skipped - multiple tablets are edited in a score-like fashion that is too complex to disentangle.\n",
    "\n",
    "The script needs a version of the full cdli catalog in csv format (downloaded from https://github.com/cdli-gh/data) and a file called Delnero_main.txt. This is, in essence, Delnero's transliteration file, with special characters etc. adjusted (as explained above) and without the section on Uru'ama'irabi."
   ]
  },
  {
   "cell_type": "code",
   "execution_count": null,
   "id": "be6b6c95-56e5-417a-9869-9974c32706d7",
   "metadata": {},
   "outputs": [],
   "source": [
    "import pandas as pd\n",
    "import re"
   ]
  },
  {
   "cell_type": "code",
   "execution_count": null,
   "id": "44f8feb3-a6e8-4acf-a679-52c47e3de387",
   "metadata": {},
   "outputs": [],
   "source": [
    "cat = pd.read_csv('cdli_cat.csv', encoding='utf8', sep=',', low_memory=False).fillna('')\n",
    "cat"
   ]
  },
  {
   "cell_type": "markdown",
   "id": "339bcba6-2817-4e4e-8e58-9a130c58db00",
   "metadata": {},
   "source": [
    "Add additional museum_no and designation columns. The only difference with the original museum_no and designation columns is that all leading zeros are removed. Adjust the field id_text so that it becomes a string consisting of a P followed by six digits."
   ]
  },
  {
   "cell_type": "code",
   "execution_count": null,
   "id": "b878635e-baf2-405e-916b-e541827cc90a",
   "metadata": {},
   "outputs": [],
   "source": [
    "cat['museum_no2'] = [re.sub(' 0+', ' ', no) for no in cat.museum_no]\n",
    "cat['designation2'] = [re.sub(' 0+', ' ', des) for des in cat.designation]\n",
    "cat['id_text'] = ['P' + str(idtext).zfill(6) for idtext in cat['id_text']]"
   ]
  },
  {
   "cell_type": "code",
   "execution_count": null,
   "id": "e2354b3e-9c30-4aff-ab01-869c5eb5ed69",
   "metadata": {},
   "outputs": [],
   "source": [
    "cat[['designation', 'id_text', 'museum_no', 'museum_no2', 'designation2']][:10]"
   ]
  },
  {
   "cell_type": "markdown",
   "id": "c4b1f9a1-b9b9-454c-b3d3-c7ff8365a98d",
   "metadata": {},
   "source": [
    "Create a dictionary with museum number and designation as key and P number (id_text) as value. If a tablet has multiple museum numbers (joins), make each of those museum numbers into a key with the same P number as value. This dictionary is used to recognize the museum numbers and other text designations in Delnero's file."
   ]
  },
  {
   "cell_type": "code",
   "execution_count": null,
   "id": "3c258e13-0771-4852-b60d-5a98636f9928",
   "metadata": {},
   "outputs": [],
   "source": [
    "dict_musno = dict(zip(cat['museum_no2'], cat['id_text']))\n",
    "dict_desig = dict(zip(cat['designation2'], cat['id_text']))\n",
    "dict_musno.update(dict_desig)\n",
    "for idx, mus in enumerate(cat.museum_no2):\n",
    "    if \"+\" in mus:\n",
    "        mus_split = mus.split('+')\n",
    "        for ms in mus_split:\n",
    "            dict_musno[ms.strip()] = cat.iloc[idx][\"id_text\"]"
   ]
  },
  {
   "cell_type": "code",
   "execution_count": null,
   "id": "c768ccab-cc87-4248-a5b4-142b967e3f80",
   "metadata": {},
   "outputs": [],
   "source": [
    "with open('Delnero_main.txt', 'r', encoding='utf8') as d:\n",
    "    lit = d.read().splitlines()"
   ]
  },
  {
   "cell_type": "markdown",
   "id": "28695344-0757-497d-83bc-959021fbe969",
   "metadata": {},
   "source": [
    "The variable musnos is a compiled regular expressions that finds museum numbers such as 'BM 23456' or 'UM 29-16-123' or text designations such as 'PRAK B 52' in the header of a text edition in Delnero's file. Such numbers may (or may not) be preceded by one or two asterisks, followed by a closing bracket and/or a space.\n",
    "The variable linenos is a compiled regular expression that finds line numbers in the edition. A line number begins with a digit and ends with a colon. Occasionally, a line number may be followed by an alternative line number (probably from an earlier publication), such as \"15' (90):\""
   ]
  },
  {
   "cell_type": "code",
   "execution_count": null,
   "id": "71d22e53-26e8-4717-9215-9d996b6cd713",
   "metadata": {},
   "outputs": [],
   "source": [
    "musnos = re.compile('^\\*{1,2}\\)? ?(([(A-Z]+ ){1,2}[0-9\\-]+)')\n",
    "linenos = re.compile('(^[0-9].{0,3}( .{0,5})?):')"
   ]
  },
  {
   "cell_type": "markdown",
   "id": "1ac5309a-c10f-485d-9a59-8be7c0a50503",
   "metadata": {},
   "source": [
    "The main part of the script recognizes the beginning of a new text, adds the P number of that text, and deals with \\@-lines (indicating columns and surfaces) and so-called \\\\$-lines (for single and double rulings). Text lines are recognized by a line number at the beginning of line. All collation marks are removed from text lines (there are too many of them) and several other formatting tasks are accomplished on those lines. All other lines (which are not recognized as headers, \\@-lines, \\\\$-lines, or text lines) are considered comment lines (no distinction is made between comments and translations)."
   ]
  },
  {
   "cell_type": "code",
   "execution_count": null,
   "id": "c50441e9-9ce7-4948-a8ca-a2b0050e4dbe",
   "metadata": {},
   "outputs": [],
   "source": [
    "newtext = ['&P297213 = NBC 01313\\n#project: obel\\n#atf: use unicode']\n",
    "recognized = 0\n",
    "newtextalert = False\n",
    "Xno = 700001\n",
    "for line in lit:\n",
    "    characters = list(set(line.strip()))\n",
    "    m_l = re.findall(musnos, line)\n",
    "    l_l = re.findall(linenos, line)\n",
    "    if line.strip() == '':\n",
    "        continue\n",
    "    if len(characters) == 1 and characters[0] == '-':\n",
    "        newtextalert = True\n",
    "        continue\n",
    "    if newtextalert:\n",
    "        if m_l:\n",
    "            m = m_l[0][0]\n",
    "            m = m.replace('CNMA', 'NMC')\n",
    "            m = m.replace('MIO', \"Ist Ni\")\n",
    "            if '-' in m:\n",
    "                m_split = m.split('-')\n",
    "                if m_split[-1].isdigit():\n",
    "                    m_split[-1] = m_split[-1].zfill(3)\n",
    "                    m = '-'.join(m_split)\n",
    "            p = dict_musno.get(m, m)\n",
    "            if p == m:\n",
    "                p = 'X' + str(Xno)\n",
    "                Xno += 1\n",
    "            else:\n",
    "                recognized +=1\n",
    "            line = f\"&{p} = {m}\\n#project: obel\\natf: use unicode\"\n",
    "            print(f\"{p} = {m}\")\n",
    "            newtextalert = False\n",
    "            newtext.append(line)\n",
    "            continue\n",
    "    if l_l:\n",
    "        l = l_l[0][0] + ':'\n",
    "        l_new = l.replace(' ', '_') + '.'\n",
    "        l_new = l_new.replace(':', '')\n",
    "        line = line.replace(l, l_new)\n",
    "        line = line.replace('*', '')\n",
    "        line = line.replace('>>', '')\n",
    "        line = line.replace('>', '#')\n",
    "        line = line.replace('<', '')\n",
    "        line = line.replace('. . .', '...')\n",
    "        line = line.replace('b.s.', '($blank space$)')\n",
    "    elif line.strip().startswith('----'):\n",
    "        if 'double' in line.lower():\n",
    "            line = '$ double ruling'\n",
    "        elif 'single' in line.lower():\n",
    "            line = '$ single ruling'\n",
    "        else: \n",
    "            line = '#' + line\n",
    "    elif 'rest of column broken' in line.lower():\n",
    "        line = '$ rest of column broken'\n",
    "    elif 'beginning of column broken' in line.lower():\n",
    "        line = '$ beginning of column broken'\n",
    "    elif 'rest of obverse broken' in line.lower():\n",
    "        line = '$ rest of obverse broken'\n",
    "    elif 'beginning of obverse broken' in line.lower():\n",
    "        line = '$ beginning of obverse broken'\n",
    "    elif 'rest of reverse broken' in line.lower():\n",
    "        line = '$ rest of reverse broken'\n",
    "    elif 'beginning of reverse broken' in line.lower():\n",
    "        line = '$ beginning of reverse broken'\n",
    "    elif line.lower().startswith('obv.'):\n",
    "        line = \"@obverse\"\n",
    "    elif line.lower().startswith(\"rev.\"):\n",
    "        line = \"@reverse\"\n",
    "    elif line.lower().startswith(\"col.\"):\n",
    "        line = line.replace('col.', '@column')\n",
    "        line = line.replace('ix', '9')\n",
    "        line = line.replace('x', '10')\n",
    "        line = line.replace('viii', '8')\n",
    "        line = line.replace('vii', '7')\n",
    "        line = line.replace('vi', '6')\n",
    "        line = line.replace('iv', '4')\n",
    "        line = line.replace('v', '5')\n",
    "        line = line.replace('iii', '3')\n",
    "        line = line.replace('ii', '2')\n",
    "        line = line.replace('i', '1')\n",
    "    else:\n",
    "        line = '#' + line\n",
    "    newtext.append(line)\n",
    "print(f\"{recognized} texts recognized; {Xno - 700001} texts not recognized.\")"
   ]
  },
  {
   "cell_type": "code",
   "execution_count": null,
   "id": "efb319d9-d19c-487a-9b7b-3ff64888a3f7",
   "metadata": {},
   "outputs": [],
   "source": [
    "newtext"
   ]
  },
  {
   "cell_type": "code",
   "execution_count": null,
   "id": "3b54ce43-0098-4ef7-a41c-fcbe26b63ad6",
   "metadata": {},
   "outputs": [],
   "source": []
  }
 ],
 "metadata": {
  "kernelspec": {
   "display_name": "Python 3 (ipykernel)",
   "language": "python",
   "name": "python3"
  },
  "language_info": {
   "codemirror_mode": {
    "name": "ipython",
    "version": 3
   },
   "file_extension": ".py",
   "mimetype": "text/x-python",
   "name": "python",
   "nbconvert_exporter": "python",
   "pygments_lexer": "ipython3",
   "version": "3.9.7"
  }
 },
 "nbformat": 4,
 "nbformat_minor": 5
}
